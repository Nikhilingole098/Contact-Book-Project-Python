{
 "cells": [
  {
   "cell_type": "code",
   "execution_count": null,
   "id": "5460580e-0c29-4997-af37-6fffeee6812c",
   "metadata": {},
   "outputs": [
    {
     "name": "stdout",
     "output_type": "stream",
     "text": [
      "\n",
      "1. Add Contact\n",
      "2. Display Contacts\n",
      "3. Search Contact\n",
      "4. Delete Contact\n",
      "5. Exit\n"
     ]
    }
   ],
   "source": [
    "## Contact book using lists and dictionaries\n",
    "contacts=[]\n",
    "# Add contact\n",
    "def add_contact():\n",
    "    name=input(\"Enter Name:\")\n",
    "    phone=input(\"Enter Phone number:\")\n",
    "    email=input(\"Enter email:\")\n",
    "    contacts.append({\"name\":name,\"phone\":phone,\"email\":email})\n",
    "    print(\"Contact added successfully\")\n",
    "\n",
    "# Display all contact\n",
    "def display_contacts():\n",
    "    if not contacts:\n",
    "        print(\"No Contact found.\")\n",
    "        return\n",
    "    for contact in contacts:\n",
    "        print(f\"Name:{contact['name']},Phone:{contact['phone']},Email:{contact['email']}\")\n",
    "\n",
    "# Search Contact\n",
    "def search_contact():\n",
    "    name=input(\"Enter name to search:\")\n",
    "    for contact in contacts:\n",
    "        if contact[\"name\"].lower()==name.lower():\n",
    "            print(f\"Name:{contact['name']},Phone:{contact['phone']},Email:{contact['email']}\")\n",
    "            return\n",
    "    print(\"Contact not found\")\n",
    "\n",
    "# Delete Contact\n",
    "def delete_contact():\n",
    "    name=input(\"Enter name to search:\")\n",
    "    for contact in contacts:\n",
    "        if contact[\"name\"].lower()==name.lower():\n",
    "            contacts.remove(contact)\n",
    "            print(\"Contact deleted Successfully.\")\n",
    "            return\n",
    "    print(\"Contact not found\")\n",
    "\n",
    "# Main Contact\n",
    "def main():\n",
    "    while True:\n",
    "        print(\"\\n1. Add Contact\\n2. Display Contacts\\n3. Search Contact\\n4. Delete Contact\\n5. Exit\")\n",
    "        choice=input(\"Enter choice:\")\n",
    "        if choice=='1':\n",
    "            add_contact()\n",
    "        elif choice=='2':\n",
    "            display_contacts()\n",
    "        elif choice=='3':\n",
    "            search_contact()\n",
    "        elif choice=='4':\n",
    "            delete_contact()\n",
    "        elif choice=='5':\n",
    "            print(\"GoodBye!\")\n",
    "            break\n",
    "        else:\n",
    "            print(\"Invalid choice,try again.\")\n",
    "\n",
    "main()"
   ]
  },
  {
   "cell_type": "code",
   "execution_count": null,
   "id": "baebc251-ee2f-41b6-8d94-0227966a368d",
   "metadata": {},
   "outputs": [],
   "source": []
  }
 ],
 "metadata": {
  "kernelspec": {
   "display_name": "Python 3 (ipykernel)",
   "language": "python",
   "name": "python3"
  },
  "language_info": {
   "codemirror_mode": {
    "name": "ipython",
    "version": 3
   },
   "file_extension": ".py",
   "mimetype": "text/x-python",
   "name": "python",
   "nbconvert_exporter": "python",
   "pygments_lexer": "ipython3",
   "version": "3.12.4"
  }
 },
 "nbformat": 4,
 "nbformat_minor": 5
}
