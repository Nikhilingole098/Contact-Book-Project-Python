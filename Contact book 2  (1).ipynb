{
 "cells": [
  {
   "cell_type": "code",
   "execution_count": null,
   "id": "46c16ed5-d6d0-46b7-b1f5-9d829e56a8b5",
   "metadata": {},
   "outputs": [
    {
     "name": "stdout",
     "output_type": "stream",
     "text": [
      "\n",
      "1.Add Contact\n",
      "2.Display Contacts\n",
      "3.Search Contact\n",
      "4. Delete Contact\n",
      "5.Exit\n"
     ]
    },
    {
     "name": "stdin",
     "output_type": "stream",
     "text": [
      "Enter choice: 2\n"
     ]
    }
   ],
   "source": [
    "import mysql.connector\n",
    "def get_connection():\n",
    "    return mysql.connector.connect(\n",
    "        host = 'localhost',\n",
    "        database = 'contact_book',\n",
    "        user = 'root',\n",
    "        password= 'Chiku@2000'\n",
    "    )\n",
    "\n",
    "def add_contact():\n",
    "    name = input(\"Enter name:\")\n",
    "    phone = input(\"Enter phone number:\")\n",
    "    email = input(\"Enter email:\")\n",
    "    conn = get_connection()\n",
    "    cursor = conn.cursor()\n",
    "    cursor.execute(\"INSERT INTO contacts(name,phone,email) VALUES(%s, %s,%s)\", (name, phone, email))\n",
    "    conn.commit()\n",
    "    print(\"Contact added successfully\")\n",
    "    conn.close()\n",
    "\n",
    "def display_contacts():\n",
    "    conn = get_connection()\n",
    "    cursor = conn.cursor()\n",
    "    cursor.execute(\"SELECT name, phone, email from contacts\")\n",
    "    for row in cursor.fetchall():\n",
    "        print(f\"Name:{row[0]}, Phone:{row[1]}, Email:{row[2]}\")\n",
    "    conn.close()\n",
    "\n",
    "def search_contact():\n",
    "    name = input(\"Enter name to search\")\n",
    "    conn = get_connection()\n",
    "    cursor = conn.cursor()\n",
    "    cursor.execute(\"SELECT *FROM contacts WHERE name = %s\", (name,))\n",
    "    contact = cursor.fetchone()\n",
    "    if contact:\n",
    "        print(f\"Name:{contact[0]}, Phone: {[1]}, Email: {[2]}\")\n",
    "    else:\n",
    "        print(\"Contact not found.\")\n",
    "    conn.close()\n",
    "\n",
    "def delete_contact():\n",
    "    name = input(\"Enter name to delete\")\n",
    "    conn = get_connection()\n",
    "    cursor = conn.cursor()\n",
    "    cursor.execute(\"DELETE FROM contacts WHERE name = %s\", (name,))\n",
    "    conn.commit()\n",
    "    print(\"Contact deleted successfully!\")\n",
    "    conn.close()\n",
    "\n",
    "def main():\n",
    "    while True:\n",
    "        print(\"\\n1.Add Contact\\n2.Display Contacts\\n3.Search Contact\\n4. Delete Contact\\n5.Exit\")\n",
    "        choice = input(\"Enter choice:\")\n",
    "        if choice == '1':\n",
    "            add_contact()\n",
    "        elif choice == '2':\n",
    "            display_contacts()\n",
    "        elif choice == '3':\n",
    "            search_contact()\n",
    "        elif choice == '4':\n",
    "            delete_contact()\n",
    "        elif choice == '5':\n",
    "            print(\"Goodbye!\")\n",
    "            break\n",
    "        else:\n",
    "            print(\"Invalid choice, try again.\")\n",
    "main()\n",
    "        "
   ]
  },
  {
   "cell_type": "code",
   "execution_count": null,
   "id": "b4854780-fa66-4eee-9aed-23322d72f1fd",
   "metadata": {},
   "outputs": [],
   "source": []
  }
 ],
 "metadata": {
  "kernelspec": {
   "display_name": "Python 3 (ipykernel)",
   "language": "python",
   "name": "python3"
  },
  "language_info": {
   "codemirror_mode": {
    "name": "ipython",
    "version": 3
   },
   "file_extension": ".py",
   "mimetype": "text/x-python",
   "name": "python",
   "nbconvert_exporter": "python",
   "pygments_lexer": "ipython3",
   "version": "3.12.4"
  }
 },
 "nbformat": 4,
 "nbformat_minor": 5
}
